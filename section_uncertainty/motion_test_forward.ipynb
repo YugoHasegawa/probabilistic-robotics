{
 "cells": [
  {
   "cell_type": "code",
   "execution_count": 1,
   "id": "af1165af-4b72-45ff-ac08-e842dcc86612",
   "metadata": {},
   "outputs": [],
   "source": [
    "import sys\n",
    "sys.path.append('../scripts/')\n",
    "from robot import *"
   ]
  },
  {
   "cell_type": "code",
   "execution_count": null,
   "id": "25df5b7a-7d73-4c59-b406-b4ab3a2808d0",
   "metadata": {},
   "outputs": [],
   "source": [
    "import copy\n",
    "\n",
    "world = World(4.0,0.1)\n",
    "\n",
    "initial_pose = np.array([0,0,0]).T\n",
    "robots = []\n",
    "r = Robot(initial_pose, sensor=None, agent=Agent(0.1,0.0))\n",
    "\n",
    "for i in range(100):\n",
    "    copy_r = copy.copy(r)\n",
    "    copy_r.distance_until_noise = copy_r.noise_pdf.rvs()\n",
    "    world.append(copy_r)\n",
    "    robots.append(copy_r)\n",
    "\n",
    "world.draw()"
   ]
  },
  {
   "cell_type": "code",
   "execution_count": null,
   "id": "f76fdb0f-a3af-4944-9086-4a4b69f886d5",
   "metadata": {},
   "outputs": [],
   "source": [
    "import pandas as pd\n",
    "poses = pd.DataFrame([[math.sqrt(r.pose[0]**2 + r.pose[1]**2), r.pose[2]] for r in robots], columns=[\"r\", \"theta\"])\n",
    "poses.transpose()"
   ]
  },
  {
   "cell_type": "code",
   "execution_count": null,
   "id": "e7e21ab3-ff86-4602-bfda-9b67dfb95d05",
   "metadata": {},
   "outputs": [],
   "source": [
    "math.sqrt(poses[\"r\"].var()/poses[\"r\"].mean())"
   ]
  }
 ],
 "metadata": {
  "kernelspec": {
   "display_name": "Python 3 (ipykernel)",
   "language": "python",
   "name": "python3"
  },
  "language_info": {
   "codemirror_mode": {
    "name": "ipython",
    "version": 3
   },
   "file_extension": ".py",
   "mimetype": "text/x-python",
   "name": "python",
   "nbconvert_exporter": "python",
   "pygments_lexer": "ipython3",
   "version": "3.11.4"
  },
  "widgets": {
   "application/vnd.jupyter.widget-state+json": {
    "state": {},
    "version_major": 2,
    "version_minor": 0
   }
  }
 },
 "nbformat": 4,
 "nbformat_minor": 5
}
