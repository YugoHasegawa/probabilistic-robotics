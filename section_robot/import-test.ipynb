{
 "cells": [
  {
   "cell_type": "code",
   "execution_count": 1,
   "id": "6005e58b-eedb-4e9a-9c8e-9a72c76ea1cf",
   "metadata": {},
   "outputs": [],
   "source": [
    "import sys\n",
    "sys.path.append('../scripts/')\n",
    "from ideal_robot import *"
   ]
  },
  {
   "cell_type": "code",
   "execution_count": 2,
   "id": "f59423f7-7e5a-4c3e-8f79-ec2ea9d0b6c7",
   "metadata": {},
   "outputs": [],
   "source": [
    "if __name__ == '__main__':\n",
    "    world = World(10,0.1)\n",
    "    \n",
    "    m = Map()\n",
    "    m.append_landmark(Landmark(2,-2))\n",
    "    m.append_landmark(Landmark(-1,-3))\n",
    "    m.append_landmark(Landmark(3,3))\n",
    "    world.append(m)\n",
    "    \n",
    "    straight = Agent(0.2, 0.0)\n",
    "    robot1 = IdealRobot(np.array([2,3,math.pi/6]).T, sensor=IdealCamera(m), agent=straight)\n",
    "    world.append(robot1)\n",
    "    \n",
    "    circling = Agent(0.2, 10.0/180*math.pi)\n",
    "    robot2 = IdealRobot(np.array([-2,-1,math.pi/5*6]).T, sensor=IdealCamera(m), agent=circling, color=\"red\")\n",
    "    world.append(robot2)\n",
    "    \n",
    "    robot3 = IdealRobot(np.array([0,0,0]).T, color=\"blue\")\n",
    "    world.append(robot3)\n",
    "    \n",
    "    world.draw()"
   ]
  }
 ],
 "metadata": {
  "kernelspec": {
   "display_name": "Python 3 (ipykernel)",
   "language": "python",
   "name": "python3"
  },
  "language_info": {
   "codemirror_mode": {
    "name": "ipython",
    "version": 3
   },
   "file_extension": ".py",
   "mimetype": "text/x-python",
   "name": "python",
   "nbconvert_exporter": "python",
   "pygments_lexer": "ipython3",
   "version": "3.11.4"
  },
  "widgets": {
   "application/vnd.jupyter.widget-state+json": {
    "state": {},
    "version_major": 2,
    "version_minor": 0
   }
  }
 },
 "nbformat": 4,
 "nbformat_minor": 5
}
